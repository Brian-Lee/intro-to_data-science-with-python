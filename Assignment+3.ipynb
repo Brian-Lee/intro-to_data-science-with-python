{
 "cells": [
  {
   "cell_type": "markdown",
   "metadata": {},
   "source": [
    "---\n",
    "\n",
    "_You are currently looking at **version 1.5** of this notebook. To download notebooks and datafiles, as well as get help on Jupyter notebooks in the Coursera platform, visit the [Jupyter Notebook FAQ](https://www.coursera.org/learn/python-data-analysis/resources/0dhYG) course resource._\n",
    "\n",
    "---"
   ]
  },
  {
   "cell_type": "markdown",
   "metadata": {},
   "source": [
    "# Assignment 3 - More Pandas\n",
    "This assignment requires more individual learning then the last one did - you are encouraged to check out the [pandas documentation](http://pandas.pydata.org/pandas-docs/stable/) to find functions or methods you might not have used yet, or ask questions on [Stack Overflow](http://stackoverflow.com/) and tag them as pandas and python related. And of course, the discussion forums are open for interaction with your peers and the course staff."
   ]
  },
  {
   "cell_type": "markdown",
   "metadata": {},
   "source": [
    "### Question 1 (20%)\n",
    "Load the energy data from the file `Energy Indicators.xls`, which is a list of indicators of [energy supply and renewable electricity production](Energy%20Indicators.xls) from the [United Nations](http://unstats.un.org/unsd/environment/excel_file_tables/2013/Energy%20Indicators.xls) for the year 2013, and should be put into a DataFrame with the variable name of **energy**.\n",
    "\n",
    "Keep in mind that this is an Excel file, and not a comma separated values file. Also, make sure to exclude the footer and header information from the datafile. The first two columns are unneccessary, so you should get rid of them, and you should change the column labels so that the columns are:\n",
    "\n",
    "`['Country', 'Energy Supply', 'Energy Supply per Capita', '% Renewable']`\n",
    "\n",
    "Convert `Energy Supply` to gigajoules (there are 1,000,000 gigajoules in a petajoule). For all countries which have missing data (e.g. data with \"...\") make sure this is reflected as `np.NaN` values.\n",
    "\n",
    "Rename the following list of countries (for use in later questions):\n",
    "\n",
    "```\"Republic of Korea\": \"South Korea\",\n",
    "\"United States of America\": \"United States\",\n",
    "\"United Kingdom of Great Britain and Northern Ireland\": \"United Kingdom\",\n",
    "\"China, Hong Kong Special Administrative Region\": \"Hong Kong\"```\n",
    "\n",
    "There are also several countries with numbers and/or parenthesis in their name. Be sure to remove these, \n",
    "\n",
    "e.g. \n",
    "\n",
    "`'Bolivia (Plurinational State of)'` should be `'Bolivia'`, \n",
    "\n",
    "`'Switzerland17'` should be `'Switzerland'`.\n",
    "\n",
    "<br>\n",
    "\n",
    "Next, load the GDP data from the file `world_bank.csv`, which is a csv containing countries' GDP from 1960 to 2015 from [World Bank](http://data.worldbank.org/indicator/NY.GDP.MKTP.CD). Call this DataFrame **GDP**. \n",
    "\n",
    "Make sure to skip the header, and rename the following list of countries:\n",
    "\n",
    "```\"Korea, Rep.\": \"South Korea\", \n",
    "\"Iran, Islamic Rep.\": \"Iran\",\n",
    "\"Hong Kong SAR, China\": \"Hong Kong\"```\n",
    "\n",
    "<br>\n",
    "\n",
    "Finally, load the [Sciamgo Journal and Country Rank data for Energy Engineering and Power Technology](http://www.scimagojr.com/countryrank.php?category=2102) from the file `scimagojr-3.xlsx`, which ranks countries based on their journal contributions in the aforementioned area. Call this DataFrame **ScimEn**.\n",
    "\n",
    "Join the three datasets: GDP, Energy, and ScimEn into a new dataset (using the intersection of country names). Use only the last 10 years (2006-2015) of GDP data and only the top 15 countries by Scimagojr 'Rank' (Rank 1 through 15). \n",
    "\n",
    "The index of this DataFrame should be the name of the country, and the columns should be ['Rank', 'Documents', 'Citable documents', 'Citations', 'Self-citations',\n",
    "       'Citations per document', 'H index', 'Energy Supply',\n",
    "       'Energy Supply per Capita', '% Renewable', '2006', '2007', '2008',\n",
    "       '2009', '2010', '2011', '2012', '2013', '2014', '2015'].\n",
    "\n",
    "*This function should return a DataFrame with 20 columns and 15 entries.*"
   ]
  },
  {
   "cell_type": "code",
   "execution_count": 6,
   "metadata": {},
   "outputs": [
    {
     "name": "stdout",
     "output_type": "stream",
     "text": [
      "\u001b[0m\u001b[01;32mAssignment 2.ipynb\u001b[0m*      \u001b[01;32mgdplev.xls\u001b[0m*    \u001b[01;32mscimagojr-3.xlsx\u001b[0m*\r\n",
      "\u001b[01;32mAssignment 3.ipynb\u001b[0m*      \u001b[01;32mgrades.csv\u001b[0m*    \u001b[01;32muniversity_towns.txt\u001b[0m*\r\n",
      "\u001b[01;32mAssignment 4.ipynb\u001b[0m*      \u001b[01;32mlog.csv\u001b[0m*       \u001b[01;32mWeek 1.ipynb\u001b[0m*\r\n",
      "\u001b[01;32mcars.csv\u001b[0m*                \u001b[01;32mlog.txt\u001b[0m*       \u001b[01;32mWeek 2.ipynb\u001b[0m*\r\n",
      "\u001b[01;32mcensus.csv\u001b[0m*              \u001b[01;32mmpg.csv\u001b[0m*       \u001b[01;32mWeek 3.ipynb\u001b[0m*\r\n",
      "\u001b[01;32mCity_Zhvi_AllHomes.csv\u001b[0m*  \u001b[01;32molympics.csv\u001b[0m*  \u001b[01;32mWeek 4.ipynb\u001b[0m*\r\n",
      "\u001b[01;32mEnergy Indicators.xls\u001b[0m*   \u001b[34;42mreadonly\u001b[0m/      \u001b[01;32mworld_bank.csv\u001b[0m*\r\n"
     ]
    }
   ],
   "source": [
    "%"
   ]
  },
  {
   "cell_type": "code",
   "execution_count": 15,
   "metadata": {
    "umich_part_id": "009",
    "umich_partlist_id": "003"
   },
   "outputs": [
    {
     "data": {
      "text/plain": [
       "(15, 20)"
      ]
     },
     "execution_count": 15,
     "metadata": {},
     "output_type": "execute_result"
    }
   ],
   "source": [
    "import pandas as pd\n",
    "\n",
    "def answer_one():\n",
    "    ''' answer 1 '''\n",
    "    \n",
    "    energy = pd.read_excel('Energy Indicators.xls', skiprows=18, skipfooter=38, header=None)\n",
    "\n",
    "    energy.drop(energy.iloc[:,0:2], inplace = True, axis = 1)\n",
    "    energy.columns = ['Country', 'Energy Supply', 'Energy Supply per Capita', '% Renewable']\n",
    "    # convert '...' values to NaN\n",
    "    energy['Energy Supply'].loc[energy['Energy Supply'] == '...'] = pd.np.nan\n",
    "    energy['Energy Supply per Capita'].loc[energy['Energy Supply per Capita'] == '...'] = pd.np.nan\n",
    "\n",
    "\n",
    "    # convert petajoules (used on 'Energy Supply' to gigajoules)\n",
    "    energy['Energy Supply'] = 1000000*energy['Energy Supply']\n",
    "    #rename some countries\n",
    "    energy['Country'].loc[energy['Country'] == 'Republic of Korea'] = 'South Korea'\n",
    "    energy['Country'].loc[energy['Country'] == 'United States of America20'] = 'United States'\n",
    "    energy['Country'].loc[energy['Country'].str.startswith('United Kingdom of Great Britain and Northern I')] = 'United Kingdom'\n",
    "    energy['Country'].loc[energy['Country'].str.startswith('China, Hong Kong Special Administrative Region')] = 'Hong Kong'\n",
    "    energy['Country'].loc[energy['Country'].str.startswith('Australia')] = 'Australia'\n",
    "    energy['Country'].loc[energy['Country'].str.startswith('Bolivia')] = 'Bolivia'\n",
    "    energy['Country'].loc[energy['Country'].str.startswith('China2')] = 'China'\n",
    "    energy['Country'].loc[energy['Country'].str.startswith('China, Macao')] = 'Macao'\n",
    "    energy['Country'].loc[energy['Country'].str.startswith('Denmark5')] = 'Denmark'\n",
    "    energy['Country'].loc[energy['Country'].str.startswith('Falkland Islands (Malvinas)')] = 'Falkland Islands'\n",
    "    energy['Country'].loc[energy['Country'].str.startswith('France6')] = 'France'\n",
    "    energy['Country'].loc[energy['Country'].str.startswith('Greenland7')] = 'Greenland'\n",
    "    energy['Country'].loc[energy['Country'].str.startswith('Indonesia8')] = 'Indonesia'\n",
    "    energy['Country'].loc[energy['Country'].str.startswith('Iran (Islamic Republic of)')] = 'Iran'\n",
    "    energy['Country'].loc[energy['Country'].str.startswith('Italy9')] = 'Italy'\n",
    "    energy['Country'].loc[energy['Country'].str.startswith('Japan10')] = 'Japan'\n",
    "    energy['Country'].loc[energy['Country'].str.startswith('Kuwait11')] = 'Kuwait'\n",
    "    energy['Country'].loc[energy['Country'].str.startswith('Micronesia (Federated States of)')] = 'Micronesia'\n",
    "    energy['Country'].loc[energy['Country'].str.startswith('Netherlands12')] = 'Netherlands'\n",
    "    energy['Country'].loc[energy['Country'].str.startswith('Portugal13')] = 'Portugal'\n",
    "    energy['Country'].loc[energy['Country'].str.startswith('Saudi Arabia14')] = 'Saudi Arabia'\n",
    "    energy['Country'].loc[energy['Country'].str.startswith('Serbia15')] = 'Serbia'\n",
    "    energy['Country'].loc[energy['Country'].str.startswith('Sint Maarten (Dutch par')] = 'Sint Maarten'\n",
    "    energy['Country'].loc[energy['Country'].str.startswith('Spain16')] = 'Spain'\n",
    "    energy['Country'].loc[energy['Country'].str.startswith('Switzerland17')] = 'Switzerland'\n",
    "    energy['Country'].loc[energy['Country'].str.startswith('Ukraine18')] = 'Ukraine'\n",
    "    energy['Country'].loc[energy['Country'].str.startswith('Venezuela (Bolivarian Republic of)')] = 'Venezuela'\n",
    "\n",
    "\n",
    "    GDP = pd.read_csv('world_bank.csv', skiprows=4, skipfooter=0)\n",
    "    GDP['Country Name'].loc[GDP['Country Name'].str.startswith('Korea, Rep.')] = 'South Korea'\n",
    "    GDP['Country Name'].loc[GDP['Country Name'].str.startswith('Iran, Islamic Rep.')] = 'Iran'\n",
    "    GDP['Country Name'].loc[GDP['Country Name'].str.startswith('Hong Kong SAR, China')] = 'Hong Kong'\n",
    "    \n",
    "    #eliminate extraneous years from GDP (keep 2006-2015) \n",
    "    #perform on a copy just in case grading checks for GDP to include those columns\n",
    "    GDP_10_years = GDP.copy()\n",
    "    GDP_10_years.drop(GDP_10_years.iloc[:,4:50], inplace = True, axis = 1)    \n",
    "    # I don't think we want these extra columns\n",
    "    GDP_10_years.drop(['Country Code','Indicator Name', 'Indicator Code'], axis=1, inplace=True)\n",
    "\n",
    "    ScimEn = pd.read_excel('scimagojr-3.xlsx', skiprows=0, skipfooter=0)\n",
    "\n",
    "    ScimEn_top_15 = ScimEn.copy()\n",
    "    ScimEn_top_15 = ScimEn_top_15.drop(ScimEn_top_15.index[15:])\n",
    "    \n",
    "    ScimEn_top_15.rename(columns={\"Country\": \"Country Name\"}, inplace=True)\n",
    "    energy.rename(columns={\"Country\": \"Country Name\"}, inplace=True)\n",
    "    \n",
    "    answer_df = ScimEn_top_15\n",
    "    answer_df = energy    \n",
    "   \n",
    "    merged_data_2sets = pd.merge(ScimEn_top_15, energy, on='Country Name', how='inner')\n",
    "    merged_data_3sets = pd.merge(merged_data_2sets, GDP_10_years, on='Country Name', how='inner') \n",
    "    merged_data_3sets.set_index('Country Name', inplace=True)\n",
    "    \n",
    "    answer_df = merged_data_3sets\n",
    "\n",
    "    \n",
    "    assert isinstance(answer_df, pd.DataFrame)\n",
    "    assert len(answer_df) == 15\n",
    "    assert len(answer_df.columns) == 20\n",
    "    return answer_df\n",
    "\n",
    "answer_one()\n"
   ]
  },
  {
   "cell_type": "markdown",
   "metadata": {},
   "source": [
    "### Question 2 (6.6%)\n",
    "The previous question joined three datasets then reduced this to just the top 15 entries. When you joined the datasets, but before you reduced this to the top 15 items, how many entries did you lose?\n",
    "\n",
    "*This function should return a single number.*"
   ]
  },
  {
   "cell_type": "code",
   "execution_count": 16,
   "metadata": {},
   "outputs": [
    {
     "data": {
      "text/html": [
       "<svg width=\"800\" height=\"300\">\n",
       "  <circle cx=\"150\" cy=\"180\" r=\"80\" fill-opacity=\"0.2\" stroke=\"black\" stroke-width=\"2\" fill=\"blue\" />\n",
       "  <circle cx=\"200\" cy=\"100\" r=\"80\" fill-opacity=\"0.2\" stroke=\"black\" stroke-width=\"2\" fill=\"red\" />\n",
       "  <circle cx=\"100\" cy=\"100\" r=\"80\" fill-opacity=\"0.2\" stroke=\"black\" stroke-width=\"2\" fill=\"green\" />\n",
       "  <line x1=\"150\" y1=\"125\" x2=\"300\" y2=\"150\" stroke=\"black\" stroke-width=\"2\" fill=\"black\" stroke-dasharray=\"5,3\"/>\n",
       "  <text  x=\"300\" y=\"165\" font-family=\"Verdana\" font-size=\"35\">Everything but this!</text>\n",
       "</svg>"
      ],
      "text/plain": [
       "<IPython.core.display.HTML object>"
      ]
     },
     "metadata": {},
     "output_type": "display_data"
    }
   ],
   "source": [
    "%%HTML\n",
    "<svg width=\"800\" height=\"300\">\n",
    "  <circle cx=\"150\" cy=\"180\" r=\"80\" fill-opacity=\"0.2\" stroke=\"black\" stroke-width=\"2\" fill=\"blue\" />\n",
    "  <circle cx=\"200\" cy=\"100\" r=\"80\" fill-opacity=\"0.2\" stroke=\"black\" stroke-width=\"2\" fill=\"red\" />\n",
    "  <circle cx=\"100\" cy=\"100\" r=\"80\" fill-opacity=\"0.2\" stroke=\"black\" stroke-width=\"2\" fill=\"green\" />\n",
    "  <line x1=\"150\" y1=\"125\" x2=\"300\" y2=\"150\" stroke=\"black\" stroke-width=\"2\" fill=\"black\" stroke-dasharray=\"5,3\"/>\n",
    "  <text  x=\"300\" y=\"165\" font-family=\"Verdana\" font-size=\"35\">Everything but this!</text>\n",
    "</svg>"
   ]
  },
  {
   "cell_type": "code",
   "execution_count": 21,
   "metadata": {
    "umich_part_id": "010",
    "umich_partlist_id": "003"
   },
   "outputs": [
    {
     "data": {
      "text/plain": [
       "147"
      ]
     },
     "execution_count": 21,
     "metadata": {},
     "output_type": "execute_result"
    }
   ],
   "source": [
    "def answer_one_if_not_reduced():\n",
    "    ''' pretend that we did not reduce to the top 15 ranked countries '''\n",
    "    \n",
    "    \n",
    "    energy = pd.read_excel('Energy Indicators.xls', skiprows=18, skipfooter=38, header=None)\n",
    "\n",
    "    energy.drop(energy.iloc[:,0:2], inplace = True, axis = 1)\n",
    "    energy.columns = ['Country', 'Energy Supply', 'Energy Supply per Capita', '% Renewable']\n",
    "    # convert '...' values to NaN\n",
    "    energy['Energy Supply'].loc[energy['Energy Supply'] == '...'] = pd.np.nan\n",
    "    energy['Energy Supply per Capita'].loc[energy['Energy Supply per Capita'] == '...'] = pd.np.nan\n",
    "\n",
    "\n",
    "    # convert petajoules (used on 'Energy Supply' to gigajoules)\n",
    "    energy['Energy Supply'] = 1000000*energy['Energy Supply']\n",
    "    #rename some countries\n",
    "    energy['Country'].loc[energy['Country'] == 'Republic of Korea'] = 'South Korea'\n",
    "    energy['Country'].loc[energy['Country'] == 'United States of America20'] = 'United States'\n",
    "    energy['Country'].loc[energy['Country'].str.startswith('United Kingdom of Great Britain and Northern I')] = 'United Kingdom'\n",
    "    energy['Country'].loc[energy['Country'].str.startswith('China, Hong Kong Special Administrative Region')] = 'Hong Kong'\n",
    "    energy['Country'].loc[energy['Country'].str.startswith('Australia')] = 'Australia'\n",
    "    energy['Country'].loc[energy['Country'].str.startswith('Bolivia')] = 'Bolivia'\n",
    "    energy['Country'].loc[energy['Country'].str.startswith('China2')] = 'China'\n",
    "    energy['Country'].loc[energy['Country'].str.startswith('China, Macao')] = 'Macao'\n",
    "    energy['Country'].loc[energy['Country'].str.startswith('Denmark5')] = 'Denmark'\n",
    "    energy['Country'].loc[energy['Country'].str.startswith('Falkland Islands (Malvinas)')] = 'Falkland Islands'\n",
    "    energy['Country'].loc[energy['Country'].str.startswith('France6')] = 'France'\n",
    "    energy['Country'].loc[energy['Country'].str.startswith('Greenland7')] = 'Greenland'\n",
    "    energy['Country'].loc[energy['Country'].str.startswith('Indonesia8')] = 'Indonesia'\n",
    "    energy['Country'].loc[energy['Country'].str.startswith('Iran (Islamic Republic of)')] = 'Iran'\n",
    "    energy['Country'].loc[energy['Country'].str.startswith('Italy9')] = 'Italy'\n",
    "    energy['Country'].loc[energy['Country'].str.startswith('Japan10')] = 'Japan'\n",
    "    energy['Country'].loc[energy['Country'].str.startswith('Kuwait11')] = 'Kuwait'\n",
    "    energy['Country'].loc[energy['Country'].str.startswith('Micronesia (Federated States of)')] = 'Micronesia'\n",
    "    energy['Country'].loc[energy['Country'].str.startswith('Netherlands12')] = 'Netherlands'\n",
    "    energy['Country'].loc[energy['Country'].str.startswith('Portugal13')] = 'Portugal'\n",
    "    energy['Country'].loc[energy['Country'].str.startswith('Saudi Arabia14')] = 'Saudi Arabia'\n",
    "    energy['Country'].loc[energy['Country'].str.startswith('Serbia15')] = 'Serbia'\n",
    "    energy['Country'].loc[energy['Country'].str.startswith('Sint Maarten (Dutch par')] = 'Sint Maarten'\n",
    "    energy['Country'].loc[energy['Country'].str.startswith('Spain16')] = 'Spain'\n",
    "    energy['Country'].loc[energy['Country'].str.startswith('Switzerland17')] = 'Switzerland'\n",
    "    energy['Country'].loc[energy['Country'].str.startswith('Ukraine18')] = 'Ukraine'\n",
    "    energy['Country'].loc[energy['Country'].str.startswith('Venezuela (Bolivarian Republic of)')] = 'Venezuela'\n",
    "\n",
    "\n",
    "    GDP = pd.read_csv('world_bank.csv', skiprows=4, skipfooter=0)\n",
    "    GDP['Country Name'].loc[GDP['Country Name'].str.startswith('Korea, Rep.')] = 'South Korea'\n",
    "    GDP['Country Name'].loc[GDP['Country Name'].str.startswith('Iran, Islamic Rep.')] = 'Iran'\n",
    "    GDP['Country Name'].loc[GDP['Country Name'].str.startswith('Hong Kong SAR, China')] = 'Hong Kong'\n",
    "    \n",
    "    #eliminate extraneous years from GDP (keep 2006-2015) \n",
    "    #perform on a copy just in case grading checks for GDP to include those columns\n",
    "    GDP_10_years = GDP.copy()\n",
    "    GDP_10_years.drop(GDP_10_years.iloc[:,4:50], inplace = True, axis = 1)    \n",
    "    # I don't think we want these extra columns\n",
    "    GDP_10_years.drop(['Country Code','Indicator Name', 'Indicator Code'], axis=1, inplace=True)\n",
    "\n",
    "    ScimEn = pd.read_excel('scimagojr-3.xlsx', skiprows=0, skipfooter=0)\n",
    "\n",
    "    ScimEn_all = ScimEn.copy()\n",
    "    #This is the thing to not do\n",
    "    #ScimEn_top_15 = ScimEn_top_15.drop(ScimEn_top_15.index[15:])\n",
    "    \n",
    "    ScimEn_all.rename(columns={\"Country\": \"Country Name\"}, inplace=True)\n",
    "    energy.rename(columns={\"Country\": \"Country Name\"}, inplace=True)   \n",
    "   \n",
    "    merged_data_2sets = pd.merge(ScimEn_all, energy, on='Country Name', how='inner')\n",
    "    merged_data_3sets = pd.merge(merged_data_2sets, GDP_10_years, on='Country Name', how='inner') \n",
    "    merged_data_3sets.set_index('Country Name', inplace=True)\n",
    "    \n",
    "    answer_df = merged_data_3sets\n",
    "\n",
    "    \n",
    "    assert isinstance(answer_df, pd.DataFrame)\n",
    "    #assert len(answer_df) == 15\n",
    "    assert len(answer_df.columns) == 20\n",
    "    return answer_df\n",
    "\n",
    "def answer_two():\n",
    "    ''' answer 2 '''\n",
    "    df_all = answer_one_if_not_reduced()\n",
    "    df_reduced = answer_one()\n",
    "    \n",
    "    answer_num = len(df_all) - len(df_reduced)\n",
    "\n",
    "    assert isinstance(answer_num, int) or isinstance(answer_num, float)\n",
    "    return answer_num\n",
    "\n",
    "answer_two()"
   ]
  },
  {
   "cell_type": "markdown",
   "metadata": {},
   "source": [
    "## Answer the following questions in the context of only the top 15 countries by Scimagojr Rank (aka the DataFrame returned by `answer_one()`)"
   ]
  },
  {
   "cell_type": "markdown",
   "metadata": {},
   "source": [
    "### Question 3 (6.6%)\n",
    "What is the average GDP over the last 10 years for each country? (exclude missing values from this calculation.)\n",
    "\n",
    "*This function should return a Series named `avgGDP` with 15 countries and their average GDP sorted in descending order.*"
   ]
  },
  {
   "cell_type": "code",
   "execution_count": 86,
   "metadata": {
    "scrolled": true,
    "umich_part_id": "011",
    "umich_partlist_id": "003"
   },
   "outputs": [
    {
     "data": {
      "text/plain": [
       "Country Name\n",
       "United States         1.536434e+13\n",
       "China                 6.348609e+12\n",
       "Japan                 5.542208e+12\n",
       "Germany               3.493025e+12\n",
       "France                2.681725e+12\n",
       "United Kingdom        2.487907e+12\n",
       "Brazil                2.189794e+12\n",
       "Italy                 2.120175e+12\n",
       "India                 1.769297e+12\n",
       "Canada                1.660647e+12\n",
       "Russian Federation    1.565459e+12\n",
       "Spain                 1.418078e+12\n",
       "Australia             1.164043e+12\n",
       "South Korea           1.106715e+12\n",
       "Iran                  4.441558e+11\n",
       "dtype: float64"
      ]
     },
     "execution_count": 86,
     "metadata": {},
     "output_type": "execute_result"
    }
   ],
   "source": [
    "def answer_three():\n",
    "    ''' answer 3 '''\n",
    "    \n",
    "    Top15 = answer_one()\n",
    "    avgGDP_df = Top15.copy()\n",
    "    avgGDP_df.drop(['Rank','Documents','Citable documents','Citations','Self-citations'],axis=1,inplace=True)\n",
    "    avgGDP_df.drop(['Citations per document','H index','Energy Supply','Energy Supply per Capita','% Renewable'],axis=1,inplace=True)   \n",
    "\n",
    "    avgGDP_df['mean'] = avgGDP_df.mean(axis=1) \n",
    "    avgGDP_df.drop(['2006','2007','2008','2009','2010','2011','2012','2013','2014','2015'],axis=1,inplace=True)  \n",
    "    \n",
    "    \n",
    "    avgGDP_df.sort_values('mean', inplace=True, ascending=False)\n",
    "    \n",
    "    #kind of a nasty way to convert my dataframe into a series\n",
    "    avgGDP = avgGDP_df.loc[:, :].min(axis=1)\n",
    "\n",
    "    \n",
    "    assert isinstance(avgGDP, pd.Series)\n",
    "    assert len(avgGDP) == 15\n",
    "    return avgGDP\n",
    "\n",
    "answer_three()\n"
   ]
  },
  {
   "cell_type": "markdown",
   "metadata": {},
   "source": [
    "### Question 4 (6.6%)\n",
    "By how much had the GDP changed over the 10 year span for the country with the 6th largest average GDP?\n",
    "\n",
    "*This function should return a single number.*"
   ]
  },
  {
   "cell_type": "code",
   "execution_count": null,
   "metadata": {
    "collapsed": true,
    "scrolled": true,
    "umich_part_id": "012",
    "umich_partlist_id": "003"
   },
   "outputs": [],
   "source": [
    "def answer_four():\n",
    "    ''' answer 4 '''\n",
    "    \n",
    "    \n",
    "    Top15 = answer_one()\n",
    "    \n",
    "    assert isinstance(answer_num, int) or isinstance(answer_num, float)\n",
    "    \n",
    "    return answer_num\n",
    "\n",
    "answer_four()"
   ]
  },
  {
   "cell_type": "markdown",
   "metadata": {},
   "source": [
    "### Question 5 (6.6%)\n",
    "What is the mean `Energy Supply per Capita`?\n",
    "\n",
    "*This function should return a single number.*"
   ]
  },
  {
   "cell_type": "code",
   "execution_count": null,
   "metadata": {
    "collapsed": true,
    "umich_part_id": "013",
    "umich_partlist_id": "003"
   },
   "outputs": [],
   "source": [
    "def answer_five():\n",
    "''' answer 5 '''\n",
    "    Top15 = answer_one()\n",
    "    \n",
    "    assert isinstance(answer_num, int) or isinstance(answer_num, float)\n",
    "    \n",
    "    return answer_num"
   ]
  },
  {
   "cell_type": "markdown",
   "metadata": {},
   "source": [
    "### Question 6 (6.6%)\n",
    "What country has the maximum % Renewable and what is the percentage?\n",
    "\n",
    "*This function should return a tuple with the name of the country and the percentage.*"
   ]
  },
  {
   "cell_type": "code",
   "execution_count": null,
   "metadata": {
    "collapsed": true,
    "umich_part_id": "014",
    "umich_partlist_id": "003"
   },
   "outputs": [],
   "source": [
    "def answer_six():\n",
    "''' answer 6 '''\n",
    "    Top15 = answer_one()\n",
    "    \n",
    "    assert isinstance(answer_tuple, tuple)\n",
    "    return answer_tuple"
   ]
  },
  {
   "cell_type": "markdown",
   "metadata": {},
   "source": [
    "### Question 7 (6.6%)\n",
    "Create a new column that is the ratio of Self-Citations to Total Citations. \n",
    "What is the maximum value for this new column, and what country has the highest ratio?\n",
    "\n",
    "*This function should return a tuple with the name of the country and the ratio.*"
   ]
  },
  {
   "cell_type": "code",
   "execution_count": null,
   "metadata": {
    "collapsed": true,
    "umich_part_id": "015",
    "umich_partlist_id": "003"
   },
   "outputs": [],
   "source": [
    "def answer_seven():\n",
    "''' answer 7 '''    \n",
    "    Top15 = answer_one()\n",
    "    \n",
    "    assert isinstance(answer_tuple,tuple)\n",
    "    return answer_tuple"
   ]
  },
  {
   "cell_type": "markdown",
   "metadata": {},
   "source": [
    "### Question 8 (6.6%)\n",
    "\n",
    "Create a column that estimates the population using Energy Supply and Energy Supply per capita. \n",
    "What is the third most populous country according to this estimate?\n",
    "\n",
    "*This function should return a single string value.*"
   ]
  },
  {
   "cell_type": "code",
   "execution_count": null,
   "metadata": {
    "collapsed": true,
    "umich_part_id": "016",
    "umich_partlist_id": "003"
   },
   "outputs": [],
   "source": [
    "def answer_eight():\n",
    "''' answer 8 '''\n",
    "    Top15 = answer_one()\n",
    "\n",
    "    assert isinstance(answer_string, list)    \n",
    "    return answer_string"
   ]
  },
  {
   "cell_type": "markdown",
   "metadata": {},
   "source": [
    "### Question 9 (6.6%)\n",
    "Create a column that estimates the number of citable documents per person. \n",
    "What is the correlation between the number of citable documents per capita and the energy supply per capita? Use the `.corr()` method, (Pearson's correlation).\n",
    "\n",
    "*This function should return a single number.*\n",
    "\n",
    "*(Optional: Use the built-in function `plot9()` to visualize the relationship between Energy Supply per Capita vs. Citable docs per Capita)*"
   ]
  },
  {
   "cell_type": "code",
   "execution_count": null,
   "metadata": {
    "collapsed": true,
    "umich_part_id": "017",
    "umich_partlist_id": "003"
   },
   "outputs": [],
   "source": [
    "def answer_nine():\n",
    "''' anser 9 '''\n",
    "    Top15 = answer_one()\n",
    "    \n",
    "    assert isinstance(answer_num,int) or isinstance(answer_num, float)\n",
    "    return answer_num"
   ]
  },
  {
   "cell_type": "code",
   "execution_count": null,
   "metadata": {
    "collapsed": true
   },
   "outputs": [],
   "source": [
    "def plot9():\n",
    "''' plot for anwer 9 '''\n",
    "    import matplotlib as plt\n",
    "    %matplotlib inline\n",
    "    \n",
    "    Top15 = answer_one()\n",
    "    Top15['PopEst'] = Top15['Energy Supply'] / Top15['Energy Supply per Capita']\n",
    "    assert isinstance(Top15['PopEst'],int) or isinstance(Top15['PopEst'],float) \n",
    "    Top15['Citable docs per Capita'] = Top15['Citable documents'] / Top15['PopEst']\n",
    "    Top15.plot(x='Citable docs per Capita', y='Energy Supply per Capita', kind='scatter', xlim=[0, 0.0006])"
   ]
  },
  {
   "cell_type": "code",
   "execution_count": null,
   "metadata": {
    "collapsed": true
   },
   "outputs": [],
   "source": [
    "#plot9() # Be sure to comment out plot9() before submitting the assignment!"
   ]
  },
  {
   "cell_type": "markdown",
   "metadata": {},
   "source": [
    "### Question 10 (6.6%)\n",
    "Create a new column with a 1 if the country's % Renewable value is at or above the median for all countries in the top 15, and a 0 if the country's % Renewable value is below the median.\n",
    "\n",
    "*This function should return a series named `HighRenew` whose index is the country name sorted in ascending order of rank.*"
   ]
  },
  {
   "cell_type": "code",
   "execution_count": null,
   "metadata": {
    "collapsed": true,
    "umich_part_id": "018",
    "umich_partlist_id": "003"
   },
   "outputs": [],
   "source": [
    "def answer_ten():\n",
    "''' anser 10 '''\n",
    "    Top15 = answer_one()\n",
    "    assert isinstance(HighRenew, pd.Series)\n",
    "    return HighRenew"
   ]
  },
  {
   "cell_type": "markdown",
   "metadata": {},
   "source": [
    "### Question 11 (6.6%)\n",
    "Use the following dictionary to group the Countries by Continent, then create a dateframe that displays the sample size (the number of countries in each continent bin), and the sum, mean, and std deviation for the estimated population of each country.\n",
    "\n",
    "```python\n",
    "ContinentDict  = {'China':'Asia', \n",
    "                  'United States':'North America', \n",
    "                  'Japan':'Asia', \n",
    "                  'United Kingdom':'Europe', \n",
    "                  'Russian Federation':'Europe', \n",
    "                  'Canada':'North America', \n",
    "                  'Germany':'Europe', \n",
    "                  'India':'Asia',\n",
    "                  'France':'Europe', \n",
    "                  'South Korea':'Asia', \n",
    "                  'Italy':'Europe', \n",
    "                  'Spain':'Europe', \n",
    "                  'Iran':'Asia',\n",
    "                  'Australia':'Australia', \n",
    "                  'Brazil':'South America'}\n",
    "```\n",
    "\n",
    "*This function should return a DataFrame with index named Continent `['Asia', 'Australia', 'Europe', 'North America', 'South America']` and columns `['size', 'sum', 'mean', 'std']`*"
   ]
  },
  {
   "cell_type": "code",
   "execution_count": null,
   "metadata": {
    "collapsed": true,
    "umich_part_id": "019",
    "umich_partlist_id": "003"
   },
   "outputs": [],
   "source": [
    "def answer_eleven():\n",
    "''' anser 11 '''\n",
    "    Top15 = answer_one()\n",
    "    \n",
    "    assert isinstance(answer_df, pd.DataFrame)\n",
    "    assert answer_df.columns = ['size', 'sum', 'mean', 'std']\n",
    "    \n",
    "    return answer_df"
   ]
  },
  {
   "cell_type": "markdown",
   "metadata": {},
   "source": [
    "### Question 12 (6.6%)\n",
    "Cut % Renewable into 5 bins. Group Top15 by the Continent, as well as these new % Renewable bins. How many countries are in each of these groups?\n",
    "\n",
    "*This function should return a __Series__ with a MultiIndex of `Continent`, then the bins for `% Renewable`. Do not include groups with no countries.*"
   ]
  },
  {
   "cell_type": "code",
   "execution_count": null,
   "metadata": {
    "collapsed": true,
    "scrolled": true
   },
   "outputs": [],
   "source": [
    "def answer_twelve():\n",
    "''' anser 12 '''\n",
    "    Top15 = answer_one()\n",
    "    \n",
    "    assert isinstance(asnwer_series, pd.Series)\n",
    "    return answer_series"
   ]
  },
  {
   "cell_type": "markdown",
   "metadata": {},
   "source": [
    "### Question 13 (6.6%)\n",
    "Convert the Population Estimate series to a string with thousands separator (using commas). Do not round the results.\n",
    "\n",
    "e.g. 317615384.61538464 -> 317,615,384.61538464\n",
    "\n",
    "*This function should return a Series `PopEst` whose index is the country name and whose values are the population estimate string.*"
   ]
  },
  {
   "cell_type": "code",
   "execution_count": null,
   "metadata": {
    "collapsed": true,
    "scrolled": true,
    "umich_part_id": "020",
    "umich_partlist_id": "003"
   },
   "outputs": [],
   "source": [
    "def answer_thirteen():\n",
    "''' anser 13 '''\n",
    "    Top15 = answer_one()\n",
    "    \n",
    "    assert isinstance(PopEst, pd.Series)\n",
    "    return PopEst"
   ]
  },
  {
   "cell_type": "markdown",
   "metadata": {},
   "source": [
    "### Optional\n",
    "\n",
    "Use the built in function `plot_optional()` to see an example visualization."
   ]
  },
  {
   "cell_type": "code",
   "execution_count": null,
   "metadata": {
    "collapsed": true,
    "scrolled": true
   },
   "outputs": [],
   "source": [
    "def plot_optional():\n",
    "''' optional plot '''\n",
    "    import matplotlib as plt\n",
    "    %matplotlib inline\n",
    "    Top15 = answer_one()\n",
    "    ax = Top15.plot(x='Rank', y='% Renewable', kind='scatter', \n",
    "                    c=['#e41a1c','#377eb8','#e41a1c','#4daf4a','#4daf4a','#377eb8','#4daf4a','#e41a1c',\n",
    "                       '#4daf4a','#e41a1c','#4daf4a','#4daf4a','#e41a1c','#dede00','#ff7f00'], \n",
    "                    xticks=range(1,16), s=6*Top15['2014']/10**10, alpha=.75, figsize=[16,6]);\n",
    "\n",
    "    for i, txt in enumerate(Top15.index):\n",
    "        ax.annotate(txt, [Top15['Rank'][i], Top15['% Renewable'][i]], ha='center')\n",
    "\n",
    "    print(\"This is an example of a visualization that can be created to help understand the data. \\\n",
    "This is a bubble chart showing % Renewable vs. Rank. The size of the bubble corresponds to the countries' \\\n",
    "2014 GDP, and the color corresponds to the continent.\")"
   ]
  },
  {
   "cell_type": "code",
   "execution_count": null,
   "metadata": {
    "collapsed": true
   },
   "outputs": [],
   "source": [
    "#plot_optional() # Be sure to comment out plot_optional() before submitting the assignment!"
   ]
  }
 ],
 "metadata": {
  "anaconda-cloud": {},
  "coursera": {
   "course_slug": "python-data-analysis",
   "graded_item_id": "zAr06",
   "launcher_item_id": "KSSjT",
   "part_id": "SL3fU"
  },
  "kernelspec": {
   "display_name": "Python 3",
   "language": "python",
   "name": "python3"
  },
  "language_info": {
   "codemirror_mode": {
    "name": "ipython",
    "version": 3
   },
   "file_extension": ".py",
   "mimetype": "text/x-python",
   "name": "python",
   "nbconvert_exporter": "python",
   "pygments_lexer": "ipython3",
   "version": "3.6.2"
  },
  "umich": {
   "id": "Assignment 3",
   "version": "1.5"
  }
 },
 "nbformat": 4,
 "nbformat_minor": 1
}
